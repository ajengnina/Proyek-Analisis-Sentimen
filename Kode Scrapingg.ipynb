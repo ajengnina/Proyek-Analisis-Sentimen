{
 "cells": [
  {
   "cell_type": "code",
   "execution_count": 1,
   "id": "e7747ded-ab57-416d-93cb-31e4ec4c3e4c",
   "metadata": {},
   "outputs": [
    {
     "name": "stdout",
     "output_type": "stream",
     "text": [
      "Requirement already satisfied: google-play-scraper in c:\\users\\ajeng\\anaconda3\\lib\\site-packages (1.2.7)\n"
     ]
    }
   ],
   "source": [
    "!pip install google-play-scraper"
   ]
  },
  {
   "cell_type": "code",
   "execution_count": 25,
   "id": "ff01ef48-0abc-4268-9696-17cafa1de3ce",
   "metadata": {},
   "outputs": [
    {
     "name": "stdout",
     "output_type": "stream",
     "text": [
      "Scraping tiktok...\n",
      "tiktok.csv saved ✅\n",
      "\n",
      "Scraping shopee...\n",
      "shopee.csv saved ✅\n",
      "\n",
      "Scraping gojek...\n",
      "gojek.csv saved ✅\n",
      "\n",
      "Scraping ruangguru...\n",
      "ruangguru.csv saved ✅\n",
      "\n",
      "Scraping whatsapp...\n",
      "whatsapp.csv saved ✅\n",
      "\n",
      "SEMUA DATA TELAH DIAMBIL ✅\n"
     ]
    }
   ],
   "source": [
    "from google_play_scraper import reviews, Sort\n",
    "import pandas as pd\n",
    "\n",
    "# Daftar aplikasi dan ID PlayStore-nya\n",
    "apps = {\n",
    "    \"tiktok\": \"com.zhiliaoapp.musically\",\n",
    "    \"shopee\": \"com.shopee.id\",\n",
    "    \"gojek\": \"com.gojek.app\",\n",
    "    \"ruangguru\": \"com.ruangguru.livestudents\",\n",
    "    \"whatsapp\": \"com.whatsapp\"\n",
    "}\n",
    "\n",
    "# Fungsi scraping review menggunakan google-play-scraper\n",
    "def scrape_reviews(app_name, app_id, max_reviews=900):\n",
    "    print(f\"Scraping {app_name}...\")\n",
    "    result, _ = reviews(\n",
    "        app_id,\n",
    "        lang='id',\n",
    "        country='id',\n",
    "        sort=Sort.NEWEST,\n",
    "        count=max_reviews\n",
    "    )\n",
    "    df = pd.DataFrame(result)\n",
    "    if 'content' in df.columns:\n",
    "        df = df[['content']]\n",
    "    df.to_csv(f\"{app_name}.csv\", index=False)\n",
    "    print(f\"{app_name}.csv saved ✅\\n\")\n",
    "\n",
    "# Jalankan scraping untuk semua aplikasi\n",
    "for name, app_id in apps.items():\n",
    "    scrape_reviews(name, app_id, max_reviews=900)\n",
    "\n",
    "print(\"SEMUA DATA TELAH DIAMBIL ✅\")"
   ]
  },
  {
   "cell_type": "code",
   "execution_count": 5,
   "id": "84c77f3b-fedc-4f81-8452-f12815322d53",
   "metadata": {},
   "outputs": [
    {
     "name": "stdout",
     "output_type": "stream",
     "text": [
      "Cleaning tiktok.csv...\n",
      "tiktok_cleaned.csv saved ✅\n",
      "\n",
      "Cleaning shopee.csv...\n",
      "shopee_cleaned.csv saved ✅\n",
      "\n",
      "Cleaning gojek.csv...\n",
      "gojek_cleaned.csv saved ✅\n",
      "\n",
      "Cleaning ruangguru.csv...\n",
      "ruangguru_cleaned.csv saved ✅\n",
      "\n",
      "Cleaning whatsapp.csv...\n",
      "whatsapp_cleaned.csv saved ✅\n",
      "\n",
      "SEMUA FILE TELAH DIBERSIHKAN ✅\n"
     ]
    }
   ],
   "source": [
    "# PEMBERSIHAN & PELABELAN\n",
    "\n",
    "import pandas as pd\n",
    "import re\n",
    "import string\n",
    "import os\n",
    "from Sastrawi.StopWordRemover.StopWordRemoverFactory import StopWordRemoverFactory\n",
    "\n",
    "# --- 2.1 Pembersihan Teks --- #\n",
    "\n",
    "# Inisialisasi stopword\n",
    "stop_factory = StopWordRemoverFactory()\n",
    "stopwords = stop_factory.get_stop_words()\n",
    "\n",
    "# Fungsi pembersihan teks\n",
    "def clean_text(text):\n",
    "    text = str(text).lower()\n",
    "    text = re.sub(r'[' + string.punctuation + ']', ' ', text)\n",
    "    text = re.sub(r'\\d+', '', text)\n",
    "    text = re.sub(r'\\s+', ' ', text).strip()\n",
    "    text = ' '.join([word for word in text.split() if word not in stopwords])\n",
    "    return text\n",
    "\n",
    "# Daftar file hasil scraping\n",
    "files = ['tiktok.csv', 'shopee.csv', 'gojek.csv', 'ruangguru.csv', 'whatsapp.csv']\n",
    "\n",
    "# Proses cleaning\n",
    "for file in files:\n",
    "    if os.path.exists(file):\n",
    "        print(f\"Cleaning {file}...\")\n",
    "        df = pd.read_csv(file)\n",
    "        if 'content' in df.columns:\n",
    "            df['cleaned'] = df['content'].apply(clean_text)\n",
    "            df.to_csv(file.replace('.csv', '_cleaned.csv'), index=False)\n",
    "            print(f\"{file.replace('.csv', '_cleaned.csv')} saved ✅\\n\")\n",
    "        else:\n",
    "            print(f\"Kolom 'content' tidak ditemukan dalam {file} ⚠️\\n\")\n",
    "    else:\n",
    "        print(f\"File {file} tidak ditemukan ⚠️\\n\")\n",
    "\n",
    "print(\"SEMUA FILE TELAH DIBERSIHKAN ✅\")"
   ]
  },
  {
   "cell_type": "code",
   "execution_count": 7,
   "id": "453880f2-82af-40fa-93d1-e06a1a3efab4",
   "metadata": {},
   "outputs": [
    {
     "name": "stdout",
     "output_type": "stream",
     "text": [
      "Labeling tiktok_cleaned.csv...\n",
      "tiktok_labeled.csv saved ✅\n",
      "\n",
      "Labeling shopee_cleaned.csv...\n",
      "shopee_labeled.csv saved ✅\n",
      "\n",
      "Labeling gojek_cleaned.csv...\n",
      "gojek_labeled.csv saved ✅\n",
      "\n",
      "Labeling ruangguru_cleaned.csv...\n",
      "ruangguru_labeled.csv saved ✅\n",
      "\n",
      "Labeling whatsapp_cleaned.csv...\n",
      "whatsapp_labeled.csv saved ✅\n",
      "\n",
      "SEMUA FILE TELAH DILABELI ✅\n"
     ]
    }
   ],
   "source": [
    "# --- 2.2 Pelabelan Semi-Otomatis --- #\n",
    "\n",
    "# Kata kunci untuk labeling\n",
    "positive_words = ['bagus', 'mantap', 'cepat', 'puas', 'keren', 'lancar']\n",
    "negative_words = ['jelek', 'error', 'lemot', 'buruk', 'parah', 'gagal']\n",
    "\n",
    "# Fungsi labeling berbasis kata kunci\n",
    "def label_sentiment(text):\n",
    "    if isinstance(text, str):\n",
    "        if any(word in text for word in positive_words):\n",
    "            return 'positif'\n",
    "        elif any(word in text for word in negative_words):\n",
    "            return 'negatif'\n",
    "        else:\n",
    "            return 'netral'\n",
    "    else:\n",
    "        return 'netral'\n",
    "\n",
    "# Labeling untuk semua file cleaned\n",
    "for file in files:\n",
    "    cleaned_file = file.replace('.csv', '_cleaned.csv')\n",
    "    if os.path.exists(cleaned_file):\n",
    "        print(f\"Labeling {cleaned_file}...\")\n",
    "        df = pd.read_csv(cleaned_file)\n",
    "        if 'cleaned' in df.columns:\n",
    "            df['sentiment'] = df['cleaned'].apply(label_sentiment)\n",
    "            df.to_csv(file.replace('.csv', '_labeled.csv'), index=False)\n",
    "            print(f\"{file.replace('.csv', '_labeled.csv')} saved ✅\\n\")\n",
    "        else:\n",
    "            print(f\"Kolom 'cleaned' tidak ditemukan dalam {cleaned_file} ⚠️\\n\")\n",
    "    else:\n",
    "        print(f\"File {cleaned_file} tidak ditemukan ⚠️\\n\")\n",
    "\n",
    "print(\"SEMUA FILE TELAH DILABELI ✅\")"
   ]
  },
  {
   "cell_type": "code",
   "execution_count": 9,
   "id": "17d0438d-60e7-4980-a460-374579538b65",
   "metadata": {},
   "outputs": [
    {
     "name": "stdout",
     "output_type": "stream",
     "text": [
      "   air  aja       aku  akun  apa  apk  aplikasi  aplikasinya  app  asik  ...  \\\n",
      "0  0.0  0.0  0.000000   0.0  0.0  0.0  0.000000          0.0  0.0   0.0  ...   \n",
      "1  0.0  0.0  0.462748   0.0  0.0  0.0  0.000000          0.0  0.0   0.0  ...   \n",
      "2  0.0  0.0  0.000000   0.0  0.0  0.0  0.369211          0.0  0.0   0.0  ...   \n",
      "3  0.0  0.0  0.000000   0.0  0.0  0.0  0.000000          0.0  0.0   0.0  ...   \n",
      "4  0.0  0.0  0.000000   0.0  0.0  0.0  0.000000          0.0  0.0   0.0  ...   \n",
      "\n",
      "   versi  very  video  vidio  yah  yes   yg  you  على   من  \n",
      "0    0.0   0.0    0.0    0.0  0.0  0.0  0.0  0.0  0.0  0.0  \n",
      "1    0.0   0.0    0.0    0.0  0.0  0.0  0.0  0.0  0.0  0.0  \n",
      "2    0.0   0.0    0.0    0.0  0.0  0.0  0.0  0.0  0.0  0.0  \n",
      "3    0.0   0.0    0.0    0.0  0.0  0.0  0.0  0.0  0.0  0.0  \n",
      "4    0.0   0.0    0.0    0.0  0.0  0.0  0.0  0.0  0.0  0.0  \n",
      "\n",
      "[5 rows x 200 columns]\n"
     ]
    }
   ],
   "source": [
    "from sklearn.feature_extraction.text import TfidfVectorizer\n",
    "import pandas as pd\n",
    "\n",
    "# Contoh load data\n",
    "df = pd.read_csv('tiktok_labeled.csv')\n",
    "\n",
    "# Pastikan tidak ada NaN atau data kosong\n",
    "df['cleaned'] = df['cleaned'].fillna('')\n",
    "\n",
    "# Inisialisasi TF-IDF\n",
    "tfidf = TfidfVectorizer(max_features=200)\n",
    "\n",
    "# Terapkan TF-IDF\n",
    "X_tfidf = tfidf.fit_transform(df['cleaned'])\n",
    "\n",
    "# Konversi ke DataFrame untuk melihat hasil\n",
    "tfidf_df = pd.DataFrame(X_tfidf.toarray(), columns=tfidf.get_feature_names_out())\n",
    "\n",
    "# Lihat beberapa baris pertama\n",
    "print(tfidf_df.head())"
   ]
  },
  {
   "cell_type": "code",
   "execution_count": null,
   "id": "ad943bfc-87bd-496f-9fa5-91b130df007c",
   "metadata": {},
   "outputs": [],
   "source": []
  }
 ],
 "metadata": {
  "kernelspec": {
   "display_name": "Python 3 (ipykernel)",
   "language": "python",
   "name": "python3"
  },
  "language_info": {
   "codemirror_mode": {
    "name": "ipython",
    "version": 3
   },
   "file_extension": ".py",
   "mimetype": "text/x-python",
   "name": "python",
   "nbconvert_exporter": "python",
   "pygments_lexer": "ipython3",
   "version": "3.12.4"
  }
 },
 "nbformat": 4,
 "nbformat_minor": 5
}
